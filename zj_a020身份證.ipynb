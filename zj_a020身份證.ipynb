{
 "cells": [
  {
   "cell_type": "code",
   "execution_count": 41,
   "id": "d47d4544",
   "metadata": {},
   "outputs": [
    {
     "name": "stdout",
     "output_type": "stream",
     "text": [
      "D235699541\n",
      "28\n",
      "fake\n"
     ]
    }
   ],
   "source": [
    "a = \"ABCDEFGHJKLMNPQRSTUVXYWZIO\"\n",
    "ID = input()\n",
    "eng = sum = 0      #第一次注意到eng變數如果只寫在for裡面，結束for之後eng也結束了，所以必須在外面有一個eng變數！\n",
    "for i in range(26):      #一開始寫in range(25)，一直沒發現錯誤。後來才注意到輸入O時一直錯，原來是要range(26)\n",
    "    if ID[0] == a[i]:\n",
    "        eng =((i+10)%10)*9+((i+10)//10)\n",
    "        break\n",
    "#print(eng)\n",
    "sum = int(ID[1])*8+int(ID[2])*7+int(ID[3])*6+int(ID[4])*5+int(ID[5])*4+int(ID[6])*3+int(ID[7])*2+int(ID[8])+int(ID[9])\n",
    "if (eng+sum)%10 == 0:\n",
    "    print(\"real\")\n",
    "else:\n",
    "    print(\"fake\")"
   ]
  },
  {
   "cell_type": "markdown",
   "id": "b8333fb6",
   "metadata": {},
   "source": [
    "在下面先測試如何把輸入含有字母與數字的str轉成int："
   ]
  },
  {
   "cell_type": "code",
   "execution_count": 22,
   "id": "75bc5250",
   "metadata": {},
   "outputs": [
    {
     "name": "stdout",
     "output_type": "stream",
     "text": [
      "o5\n",
      "6\n"
     ]
    }
   ],
   "source": [
    "a = input()\n",
    "b = int(a[1])\n",
    "print (b+1)"
   ]
  },
  {
   "cell_type": "code",
   "execution_count": 3,
   "id": "5b3e5465",
   "metadata": {},
   "outputs": [
    {
     "name": "stdout",
     "output_type": "stream",
     "text": [
      "O4\n",
      "35\n"
     ]
    }
   ],
   "source": [
    "a = \"ABCDEFGHJKLMNPQRSTUVXYWZIO\"\n",
    "ID = input()\n",
    "eng = sum = 0\n",
    "for i in range(26):\n",
    "    if ID[0] == a[i]:\n",
    "        eng = i+10\n",
    "        break\n",
    "print(eng)"
   ]
  }
 ],
 "metadata": {
  "kernelspec": {
   "display_name": "Python 3 (ipykernel)",
   "language": "python",
   "name": "python3"
  },
  "language_info": {
   "codemirror_mode": {
    "name": "ipython",
    "version": 3
   },
   "file_extension": ".py",
   "mimetype": "text/x-python",
   "name": "python",
   "nbconvert_exporter": "python",
   "pygments_lexer": "ipython3",
   "version": "3.9.12"
  }
 },
 "nbformat": 4,
 "nbformat_minor": 5
}
