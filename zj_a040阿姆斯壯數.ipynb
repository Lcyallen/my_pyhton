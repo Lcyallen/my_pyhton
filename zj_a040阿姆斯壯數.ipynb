{
 "cells": [
  {
   "cell_type": "markdown",
   "id": "c3455127",
   "metadata": {},
   "source": [
    "# 先拆解成小任務--判斷輸入的數字是否為Arm"
   ]
  },
  {
   "cell_type": "code",
   "execution_count": 19,
   "id": "39631edc",
   "metadata": {},
   "outputs": [
    {
     "name": "stdout",
     "output_type": "stream",
     "text": [
      "370\n",
      "1\n"
     ]
    }
   ],
   "source": [
    "a = int(input())\n",
    "c = b = a\n",
    "arm = 0\n",
    "deg = 0\n",
    "while a:\n",
    "    a //= 10\n",
    "    deg += 1   #先求出a的次方\n",
    "while b:\n",
    "    arm = arm+(b%10)**deg\n",
    "    b //= 10   #再算出它的arm值\n",
    "print(1 if arm==c else 0)"
   ]
  },
  {
   "cell_type": "markdown",
   "id": "77cdafa9",
   "metadata": {},
   "source": [
    "# 再依據輸入的起迄值重複判斷"
   ]
  },
  {
   "cell_type": "code",
   "execution_count": 27,
   "id": "61e3bfc1",
   "metadata": {},
   "outputs": [
    {
     "name": "stdout",
     "output_type": "stream",
     "text": [
      "10 99\n",
      "none\n"
     ]
    }
   ],
   "source": [
    "start, last = map(int, input().split())\n",
    "n_arm = 0\n",
    "for i in range(start,last+1):\n",
    "    c = b = i   #要注意初始值i會因為找它的次方和arm值而消失，故需要多宣告2個變數\n",
    "    arm = 0\n",
    "    deg = 0\n",
    "    while i:\n",
    "        i //= 10\n",
    "        deg += 1\n",
    "    while b:\n",
    "        arm = arm+(b%10)**deg\n",
    "        b //= 10 \n",
    "    if c==arm:\n",
    "        print(arm,end=' ')\n",
    "        n_arm += 1\n",
    "if n_arm==0:\n",
    "    print(\"none\")    #不能寫成print(\"none\" if n_arm==0)原因還要再研究"
   ]
  }
 ],
 "metadata": {
  "kernelspec": {
   "display_name": "Python 3 (ipykernel)",
   "language": "python",
   "name": "python3"
  },
  "language_info": {
   "codemirror_mode": {
    "name": "ipython",
    "version": 3
   },
   "file_extension": ".py",
   "mimetype": "text/x-python",
   "name": "python",
   "nbconvert_exporter": "python",
   "pygments_lexer": "ipython3",
   "version": "3.9.12"
  }
 },
 "nbformat": 4,
 "nbformat_minor": 5
}
