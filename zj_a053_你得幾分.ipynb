{
 "cells": [
  {
   "cell_type": "code",
   "execution_count": 7,
   "id": "0c642c6e",
   "metadata": {},
   "outputs": [
    {
     "name": "stdout",
     "output_type": "stream",
     "text": [
      "35\n",
      "95\n"
     ]
    }
   ],
   "source": [
    "n = int(input())\n",
    "if n<11:\n",
    "    print(n*6)\n",
    "elif n>10 and n<21:\n",
    "    print(60+(n-10)*2)\n",
    "elif n>20 and n<40:       #一開始條件只寫\"n>20\"但這樣如果答對50題就會超過100分。所以要再多加條件\n",
    "    print (80+(n-20))\n",
    "else:\n",
    "    print(100)"
   ]
  }
 ],
 "metadata": {
  "kernelspec": {
   "display_name": "Python 3 (ipykernel)",
   "language": "python",
   "name": "python3"
  },
  "language_info": {
   "codemirror_mode": {
    "name": "ipython",
    "version": 3
   },
   "file_extension": ".py",
   "mimetype": "text/x-python",
   "name": "python",
   "nbconvert_exporter": "python",
   "pygments_lexer": "ipython3",
   "version": "3.9.12"
  }
 },
 "nbformat": 4,
 "nbformat_minor": 5
}
