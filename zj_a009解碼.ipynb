{
 "cells": [
  {
   "cell_type": "code",
   "execution_count": 17,
   "id": "2b589d62",
   "metadata": {
    "scrolled": true
   },
   "outputs": [
    {
     "name": "stdout",
     "output_type": "stream",
     "text": [
      "1JKJ'pz'{ol'{yhklthyr'vm'{ol'Jvu{yvs'Kh{h'Jvywvyh{pvu5\n",
      "*CDC is the trademark of the Control Data Corporation."
     ]
    }
   ],
   "source": [
    "#print (ord('a'))  #用ord可以把字元轉成ascii碼\n",
    "#print (chr(97))\n",
    "a=input()\n",
    "for i in a:\n",
    "    print (chr(ord(i)-7),end='')"
   ]
  },
  {
   "cell_type": "markdown",
   "id": "0c503111",
   "metadata": {},
   "source": [
    "以上是網路高手的寫法："
   ]
  },
  {
   "cell_type": "code",
   "execution_count": 1,
   "id": "053f4b51",
   "metadata": {},
   "outputs": [
    {
     "name": "stdout",
     "output_type": "stream",
     "text": [
      "1JKJ'pz'{ol'{yhklthyr'vm'{ol'Jvu{yvs'Kh{h'Jvywvyh{pvu5\n",
      "*CDC is the trademark of the Control Data Corporation."
     ]
    }
   ],
   "source": [
    "a = list(input())  #把輸入的字串放入list中\n",
    "for i in a:\n",
    "    print(f'{chr(ord(i)-7)}',end='')  #這樣寫可以只輸出元素"
   ]
  },
  {
   "cell_type": "markdown",
   "id": "75192a1d",
   "metadata": {},
   "source": [
    "看完別人寫的，底下自己嘗試修改一下："
   ]
  },
  {
   "cell_type": "code",
   "execution_count": 2,
   "id": "74fd1bd8",
   "metadata": {},
   "outputs": [
    {
     "name": "stdout",
     "output_type": "stream",
     "text": [
      "1JKJ'pz'{ol'{yhklthyr'vm'{ol'Jvu{yvs'Kh{h'Jvywvyh{pvu5\n",
      "*CDC is the trademark of the Control Data Corporation."
     ]
    }
   ],
   "source": [
    "a = list(input())  #把輸入的字串放入list中\n",
    "for i in a:\n",
    "    print(chr(ord(i)-7),end='')  #沒有用f'{}'其實也能印出list中的元素！"
   ]
  },
  {
   "cell_type": "markdown",
   "id": "fdf8c886",
   "metadata": {},
   "source": [
    "再試試列印list："
   ]
  },
  {
   "cell_type": "code",
   "execution_count": 3,
   "id": "24fd5062",
   "metadata": {
    "scrolled": true
   },
   "outputs": [
    {
     "name": "stdout",
     "output_type": "stream",
     "text": [
      "1JKJ'pz'{ol'{yhklthyr'vm'{ol'Jvu{yvs'Kh{h'Jvywvyh{pvu5\n",
      "['1', 'J', 'K', 'J', \"'\", 'p', 'z', \"'\", '{', 'o', 'l', \"'\", '{', 'y', 'h', 'k', 'l', 't', 'h', 'y', 'r', \"'\", 'v', 'm', \"'\", '{', 'o', 'l', \"'\", 'J', 'v', 'u', '{', 'y', 'v', 's', \"'\", 'K', 'h', '{', 'h', \"'\", 'J', 'v', 'y', 'w', 'v', 'y', 'h', '{', 'p', 'v', 'u', '5']\n"
     ]
    }
   ],
   "source": [
    "a = list(input())\n",
    "print (a)"
   ]
  },
  {
   "cell_type": "markdown",
   "id": "0107deba",
   "metadata": {},
   "source": [
    "由上面可以看出，a確實被我們宣告為list"
   ]
  },
  {
   "cell_type": "code",
   "execution_count": 4,
   "id": "df9be804",
   "metadata": {},
   "outputs": [
    {
     "name": "stdout",
     "output_type": "stream",
     "text": [
      "1JKJ'pz'{ol'{yhklthyr'vm'{ol'Jvu{yvs'Kh{h'Jvywvyh{pvu5\n",
      "1JKJ'pz'{ol'{yhklthyr'vm'{ol'Jvu{yvs'Kh{h'Jvywvyh{pvu5"
     ]
    }
   ],
   "source": [
    "a = list(input())\n",
    "for i in a:\n",
    "    print(i,end='')"
   ]
  },
  {
   "cell_type": "code",
   "execution_count": null,
   "id": "171219b1",
   "metadata": {},
   "outputs": [],
   "source": [
    "如果想針對list指定某些元素應該怎麼處理："
   ]
  },
  {
   "cell_type": "code",
   "execution_count": 5,
   "id": "412cfb73",
   "metadata": {},
   "outputs": [
    {
     "name": "stdout",
     "output_type": "stream",
     "text": [
      "a = list(input()) for i in a:     print(i,end='')\n",
      "[')', \"'\", \"'\", '=', 'd', 'n', 'e', ',', 'i', '(', 't', 'n', 'i', 'r', 'p', ' ', ' ', ' ', ' ', ' ', ':', 'a', ' ', 'n', 'i', ' ', 'i', ' ', 'r', 'o', 'f', ' ', ')', ')', '(', 't', 'u', 'p', 'n', 'i', '(', 't', 's', 'i', 'l', ' ', '=', ' ', 'a']"
     ]
    }
   ],
   "source": [
    "a = list(input())\n",
    "print(a[::-1],end='')"
   ]
  },
  {
   "cell_type": "markdown",
   "id": "d33c3932",
   "metadata": {},
   "source": [
    "這樣寫是不行的！換一種寫法，把a串列的元素用特定方式丟進b串列："
   ]
  },
  {
   "cell_type": "code",
   "execution_count": 7,
   "id": "84905e51",
   "metadata": {},
   "outputs": [
    {
     "name": "stdout",
     "output_type": "stream",
     "text": [
      "1JKJ'pz'{ol'{yhklthyr'vm'{ol'Jvu{yvs'Kh{h'Jvywvyh{pvu5\n",
      "5uvp{hyvwyvJ'h{hK'svy{uvJ'lo{'mv'ryhtlkhy{'lo{'zp'JKJ1"
     ]
    }
   ],
   "source": [
    "a = list(input())\n",
    "b = a[::-1]\n",
    "for i in b:\n",
    "    print (i,end='')\n",
    "    "
   ]
  },
  {
   "cell_type": "code",
   "execution_count": 8,
   "id": "4a1b54cc",
   "metadata": {},
   "outputs": [
    {
     "name": "stdout",
     "output_type": "stream",
     "text": [
      "1JKJ'pz'{ol'{yhklthyr'vm'{ol'Jvu{yvs'Kh{h'Jvywvyh{pvu5\n",
      "1K'z{l{hlhrv'o'v{v'hhJyvhpu"
     ]
    }
   ],
   "source": [
    "a = list(input())\n",
    "b = a[::2]\n",
    "for i in b:\n",
    "    print (i,end='')"
   ]
  },
  {
   "cell_type": "markdown",
   "id": "21e770fe",
   "metadata": {},
   "source": [
    "再把之前我的心得練習一遍："
   ]
  },
  {
   "cell_type": "code",
   "execution_count": 13,
   "id": "4150ca48",
   "metadata": {},
   "outputs": [
    {
     "name": "stdout",
     "output_type": "stream",
     "text": [
      "1JKJ'pz'{ol'{yhklthyr'vm'{ol'Jvu{yvs'Kh{h'Jvywvyh{pvu5\n",
      "1K'z{l{hlhrv'o'v{v'hhJyvhpu"
     ]
    }
   ],
   "source": [
    "a = list(input())\n",
    "for i in range(len(a)):\n",
    "    if i%2==0:\n",
    "        print(a[i],end='')"
   ]
  }
 ],
 "metadata": {
  "kernelspec": {
   "display_name": "Python 3 (ipykernel)",
   "language": "python",
   "name": "python3"
  },
  "language_info": {
   "codemirror_mode": {
    "name": "ipython",
    "version": 3
   },
   "file_extension": ".py",
   "mimetype": "text/x-python",
   "name": "python",
   "nbconvert_exporter": "python",
   "pygments_lexer": "ipython3",
   "version": "3.9.12"
  }
 },
 "nbformat": 4,
 "nbformat_minor": 5
}
