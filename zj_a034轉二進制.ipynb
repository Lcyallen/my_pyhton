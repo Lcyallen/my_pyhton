{
 "cells": [
  {
   "cell_type": "code",
   "execution_count": 14,
   "id": "a7ea0caf",
   "metadata": {},
   "outputs": [
    {
     "name": "stdout",
     "output_type": "stream",
     "text": [
      "hello, i am +++all++++\n"
     ]
    }
   ],
   "source": [
    "#s = 'allen'\n",
    "print (f'hello, i am {\"allen\":+^10.3s}')\n",
    "#f''單引號內是要格式化的整個句子\n",
    "#要格式化的元素必須在{}內\n",
    "#先放變數，之後接:。變數若為str則必須用引號\"\"，否則必須事先宣告\n",
    "#+為填充字元，^代表置中，10為字寬，.3代表只印出3個字元，s代表變數型態"
   ]
  },
  {
   "cell_type": "code",
   "execution_count": 12,
   "id": "1b7ff1b0",
   "metadata": {},
   "outputs": [
    {
     "name": "stdout",
     "output_type": "stream",
     "text": [
      "@@@@@@@101\n"
     ]
    }
   ],
   "source": [
    "print (f'{5:@>10b}')\n",
    "#若印數字可以不用事先宣告變數名稱，\n",
    "#\"冒號\"後面一樣接\"填充字元\"再接\"對齊方式\"，再接\"字寬\"，再接\"資料型態\"b表示二進位"
   ]
  },
  {
   "cell_type": "code",
   "execution_count": 17,
   "id": "68b204df",
   "metadata": {},
   "outputs": [
    {
     "name": "stdout",
     "output_type": "stream",
     "text": [
      "5\n",
      "101\n",
      "8\n",
      "1000\n",
      "10\n",
      "1010\n",
      "20\n",
      "10100\n",
      "l\n"
     ]
    }
   ],
   "source": [
    "while 1:\n",
    "    try:\n",
    "        print(f'{int(input()):b}')\n",
    "    except:\n",
    "        break"
   ]
  }
 ],
 "metadata": {
  "kernelspec": {
   "display_name": "Python 3 (ipykernel)",
   "language": "python",
   "name": "python3"
  },
  "language_info": {
   "codemirror_mode": {
    "name": "ipython",
    "version": 3
   },
   "file_extension": ".py",
   "mimetype": "text/x-python",
   "name": "python",
   "nbconvert_exporter": "python",
   "pygments_lexer": "ipython3",
   "version": "3.9.12"
  }
 },
 "nbformat": 4,
 "nbformat_minor": 5
}
